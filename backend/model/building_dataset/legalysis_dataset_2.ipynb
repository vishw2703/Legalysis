{
 "cells": [
  {
   "cell_type": "code",
   "execution_count": 1,
   "id": "faeea063",
   "metadata": {},
   "outputs": [],
   "source": [
    "import numpy as np\n",
    "import pandas as pd\n",
    "import glob\n",
    "import os\n",
    "import openpyxl"
   ]
  },
  {
   "cell_type": "code",
   "execution_count": 2,
   "id": "e1093a8f",
   "metadata": {},
   "outputs": [],
   "source": [
    "folder_path = r'D:\\Project\\Legal Documents\\Dataset\\ToS\\Sentences'\n",
    "sentences = []\n",
    "\n",
    "for file_name in os.listdir(folder_path):\n",
    "    file_path = os.path.join(folder_path, file_name)\n",
    "    \n",
    "    with open(file_path, 'r', encoding='utf-8') as single_file:\n",
    "        lines = single_file.readlines()\n",
    "        sentences.extend(lines)\n",
    "        \n",
    "sentence_df = pd.DataFrame({'Sentence': sentences})"
   ]
  },
  {
   "cell_type": "code",
   "execution_count": 3,
   "id": "260a73dd",
   "metadata": {},
   "outputs": [
    {
     "name": "stdout",
     "output_type": "stream",
     "text": [
      "<class 'pandas.core.series.Series'>\n",
      "RangeIndex: 9414 entries, 0 to 9413\n",
      "Series name: Arbitration\n",
      "Non-Null Count  Dtype\n",
      "--------------  -----\n",
      "9414 non-null   int64\n",
      "dtypes: int64(1)\n",
      "memory usage: 73.7 KB\n"
     ]
    }
   ],
   "source": [
    "folder_path = r'D:\\Project\\Legal Documents\\Dataset\\ToS\\Labels_A'\n",
    "arbitration = []\n",
    "\n",
    "for file_name in os.listdir(folder_path):\n",
    "    file_path = os.path.join(folder_path, file_name)\n",
    "    \n",
    "    with open(file_path, 'r', encoding='utf-8') as single_file:\n",
    "        lines = single_file.readlines()\n",
    "        arbitration.extend(lines)\n",
    "        \n",
    "a = pd.DataFrame({'Arbitration': arbitration})\n",
    "a = a['Arbitration'].str.strip()\n",
    "a = pd.to_numeric(a)\n",
    "a = a.replace(-1,0)\n",
    "a.info()"
   ]
  },
  {
   "cell_type": "code",
   "execution_count": 4,
   "id": "4e5d3110",
   "metadata": {},
   "outputs": [
    {
     "name": "stdout",
     "output_type": "stream",
     "text": [
      "<class 'pandas.core.series.Series'>\n",
      "RangeIndex: 9414 entries, 0 to 9413\n",
      "Series name: Unilateral\n",
      "Non-Null Count  Dtype\n",
      "--------------  -----\n",
      "9414 non-null   int64\n",
      "dtypes: int64(1)\n",
      "memory usage: 73.7 KB\n"
     ]
    }
   ],
   "source": [
    "folder_path = r'D:\\Project\\Legal Documents\\Dataset\\ToS\\Labels_CH'\n",
    "unilateral_change = []\n",
    "\n",
    "for file_name in os.listdir(folder_path):\n",
    "    file_path = os.path.join(folder_path, file_name)\n",
    "    \n",
    "    with open(file_path, 'r', encoding='utf-8') as single_file:\n",
    "        lines = single_file.readlines()\n",
    "        unilateral_change.extend(lines)\n",
    "        \n",
    "ch = pd.DataFrame({'Unilateral': unilateral_change})\n",
    "ch = ch['Unilateral'].str.strip()\n",
    "ch= pd.to_numeric(ch)\n",
    "ch = ch.replace(-1,0)\n",
    "ch.info()"
   ]
  },
  {
   "cell_type": "code",
   "execution_count": 5,
   "id": "a3e02346",
   "metadata": {},
   "outputs": [
    {
     "name": "stdout",
     "output_type": "stream",
     "text": [
      "<class 'pandas.core.series.Series'>\n",
      "RangeIndex: 9414 entries, 0 to 9413\n",
      "Series name: Content_removal\n",
      "Non-Null Count  Dtype\n",
      "--------------  -----\n",
      "9414 non-null   int64\n",
      "dtypes: int64(1)\n",
      "memory usage: 73.7 KB\n"
     ]
    }
   ],
   "source": [
    "folder_path = r'D:\\Project\\Legal Documents\\Dataset\\ToS\\Labels_CR'\n",
    "content_removal = []\n",
    "\n",
    "for file_name in os.listdir(folder_path):\n",
    "    file_path = os.path.join(folder_path, file_name)\n",
    "    \n",
    "    with open(file_path, 'r', encoding='utf-8') as single_file:\n",
    "        lines = single_file.readlines()\n",
    "        content_removal.extend(lines)\n",
    "        \n",
    "cr = pd.DataFrame({'Content_removal': content_removal})\n",
    "\n",
    "cr = cr['Content_removal'].str.strip()\n",
    "cr= pd.to_numeric(cr)\n",
    "cr = cr.replace(-1,0)\n",
    "cr.info()"
   ]
  },
  {
   "cell_type": "code",
   "execution_count": 6,
   "id": "5b4d3c6c",
   "metadata": {},
   "outputs": [
    {
     "name": "stdout",
     "output_type": "stream",
     "text": [
      "<class 'pandas.core.series.Series'>\n",
      "RangeIndex: 9414 entries, 0 to 9413\n",
      "Series name: Jurisdiction\n",
      "Non-Null Count  Dtype\n",
      "--------------  -----\n",
      "9414 non-null   int64\n",
      "dtypes: int64(1)\n",
      "memory usage: 73.7 KB\n"
     ]
    }
   ],
   "source": [
    "folder_path = r'D:\\Project\\Legal Documents\\Dataset\\ToS\\Labels_J'\n",
    "jurisdiction = []\n",
    "\n",
    "for file_name in os.listdir(folder_path):\n",
    "    file_path = os.path.join(folder_path, file_name)\n",
    "    \n",
    "    with open(file_path, 'r', encoding='utf-8') as single_file:\n",
    "        lines = single_file.readlines()\n",
    "        jurisdiction.extend(lines)\n",
    "        \n",
    "j = pd.DataFrame({'Jurisdiction': jurisdiction})\n",
    "\n",
    "j = j['Jurisdiction'].str.strip()\n",
    "j= pd.to_numeric(j)\n",
    "j = j.replace(-1,0)\n",
    "j.info()"
   ]
  },
  {
   "cell_type": "code",
   "execution_count": 7,
   "id": "30951a9d",
   "metadata": {},
   "outputs": [
    {
     "name": "stdout",
     "output_type": "stream",
     "text": [
      "<class 'pandas.core.series.Series'>\n",
      "RangeIndex: 9414 entries, 0 to 9413\n",
      "Series name: Choice_of_law\n",
      "Non-Null Count  Dtype\n",
      "--------------  -----\n",
      "9414 non-null   int64\n",
      "dtypes: int64(1)\n",
      "memory usage: 73.7 KB\n"
     ]
    }
   ],
   "source": [
    "folder_path = r'D:\\Project\\Legal Documents\\Dataset\\ToS\\Labels_LAW'\n",
    "choice_of_law = []\n",
    "\n",
    "for file_name in os.listdir(folder_path):\n",
    "    file_path = os.path.join(folder_path, file_name)\n",
    "    \n",
    "    with open(file_path, 'r', encoding='utf-8') as single_file:\n",
    "        lines = single_file.readlines()\n",
    "        choice_of_law.extend(lines)\n",
    "        \n",
    "law = pd.DataFrame({'Choice_of_law': choice_of_law})\n",
    "\n",
    "law = law['Choice_of_law'].str.strip()\n",
    "law= pd.to_numeric(law)\n",
    "law = law.replace(-1,0)\n",
    "law.info()"
   ]
  },
  {
   "cell_type": "code",
   "execution_count": 8,
   "id": "dabbb15c",
   "metadata": {},
   "outputs": [
    {
     "name": "stdout",
     "output_type": "stream",
     "text": [
      "<class 'pandas.core.series.Series'>\n",
      "RangeIndex: 9414 entries, 0 to 9413\n",
      "Series name: Limitation_of_liability\n",
      "Non-Null Count  Dtype\n",
      "--------------  -----\n",
      "9414 non-null   int64\n",
      "dtypes: int64(1)\n",
      "memory usage: 73.7 KB\n"
     ]
    }
   ],
   "source": [
    "folder_path = r'D:\\Project\\Legal Documents\\Dataset\\ToS\\Labels_LTD'\n",
    "limitation_of_liability = []\n",
    "\n",
    "for file_name in os.listdir(folder_path):\n",
    "    file_path = os.path.join(folder_path, file_name)\n",
    "    \n",
    "    with open(file_path, 'r', encoding='utf-8') as single_file:\n",
    "        lines = single_file.readlines()\n",
    "        limitation_of_liability.extend(lines)\n",
    "        \n",
    "ltd = pd.DataFrame({'Limitation_of_liability': limitation_of_liability})\n",
    "\n",
    "ltd = ltd['Limitation_of_liability'].str.strip()\n",
    "ltd= pd.to_numeric(ltd)\n",
    "ltd = ltd.replace(-1,0)\n",
    "ltd.info()"
   ]
  },
  {
   "cell_type": "code",
   "execution_count": 9,
   "id": "c267e21e",
   "metadata": {},
   "outputs": [
    {
     "name": "stdout",
     "output_type": "stream",
     "text": [
      "<class 'pandas.core.series.Series'>\n",
      "RangeIndex: 9414 entries, 0 to 9413\n",
      "Series name: Unilateral_termination\n",
      "Non-Null Count  Dtype\n",
      "--------------  -----\n",
      "9414 non-null   int64\n",
      "dtypes: int64(1)\n",
      "memory usage: 73.7 KB\n"
     ]
    }
   ],
   "source": [
    "folder_path = r'D:\\Project\\Legal Documents\\Dataset\\ToS\\Labels_TER'\n",
    "unilateral_termination = []\n",
    "\n",
    "for file_name in os.listdir(folder_path):\n",
    "    file_path = os.path.join(folder_path, file_name)\n",
    "    \n",
    "    with open(file_path, 'r', encoding='utf-8') as single_file:\n",
    "        lines = single_file.readlines()\n",
    "        unilateral_termination.extend(lines)\n",
    "        \n",
    "ter = pd.DataFrame({'Unilateral_termination': unilateral_termination})\n",
    "\n",
    "ter = ter['Unilateral_termination'].str.strip()\n",
    "ter= pd.to_numeric(ter)\n",
    "ter = ter.replace(-1,0)\n",
    "ter.info()"
   ]
  },
  {
   "cell_type": "code",
   "execution_count": 10,
   "id": "f5d6e966",
   "metadata": {},
   "outputs": [
    {
     "name": "stdout",
     "output_type": "stream",
     "text": [
      "<class 'pandas.core.series.Series'>\n",
      "RangeIndex: 9414 entries, 0 to 9413\n",
      "Series name: Contract_by_using\n",
      "Non-Null Count  Dtype\n",
      "--------------  -----\n",
      "9414 non-null   int64\n",
      "dtypes: int64(1)\n",
      "memory usage: 73.7 KB\n"
     ]
    }
   ],
   "source": [
    "folder_path = r'D:\\Project\\Legal Documents\\Dataset\\ToS\\Labels_USE'\n",
    "contract_by_using = []\n",
    "\n",
    "for file_name in os.listdir(folder_path):\n",
    "    file_path = os.path.join(folder_path, file_name)\n",
    "    \n",
    "    with open(file_path, 'r', encoding='utf-8') as single_file:\n",
    "        lines = single_file.readlines()\n",
    "        contract_by_using.extend(lines)\n",
    "        \n",
    "use = pd.DataFrame({'Contract_by_using': contract_by_using})\n",
    "\n",
    "use = use['Contract_by_using'].str.strip()\n",
    "use= pd.to_numeric(use)\n",
    "use = use.replace(-1,0)\n",
    "use.info()"
   ]
  },
  {
   "cell_type": "code",
   "execution_count": 11,
   "id": "26e9efba",
   "metadata": {},
   "outputs": [],
   "source": [
    "excel_file_path = r'D:\\Project\\Legal Documents\\Dataset\\ToS\\dataset_2.xlsx'\n",
    "\n",
    "with pd.ExcelWriter(excel_file_path, engine='openpyxl') as writer:\n",
    "    workbook = openpyxl.Workbook()\n",
    "    sheet = workbook.active\n",
    "\n",
    "    sentence_df.to_excel(writer, index=False, sheet_name='Sheet1', startrow=0, startcol=1)\n",
    "    a.to_excel(writer, index=False, sheet_name='Sheet1', startrow=0, startcol=2)\n",
    "    ch.to_excel(writer, index=False, sheet_name='Sheet1', startrow=0, startcol=3)\n",
    "    cr.to_excel(writer, index=False, sheet_name='Sheet1', startrow=0, startcol=4)\n",
    "    j.to_excel(writer, index=False, sheet_name='Sheet1', startrow=0, startcol=5)\n",
    "    law.to_excel(writer, index=False, sheet_name='Sheet1', startrow=0, startcol=6)\n",
    "    ltd.to_excel(writer, index=False, sheet_name='Sheet1', startrow=0, startcol=7)\n",
    "    ter.to_excel(writer, index=False, sheet_name='Sheet1', startrow=0, startcol=8)\n",
    "    use.to_excel(writer, index=False, sheet_name='Sheet1', startrow=0, startcol=9)"
   ]
  },
  {
   "cell_type": "code",
   "execution_count": null,
   "id": "4a9ee646-4da7-4823-bcf3-0c31e7c0feb5",
   "metadata": {},
   "outputs": [],
   "source": []
  }
 ],
 "metadata": {
  "kernelspec": {
   "display_name": "Python 3 (ipykernel)",
   "language": "python",
   "name": "python3"
  },
  "language_info": {
   "codemirror_mode": {
    "name": "ipython",
    "version": 3
   },
   "file_extension": ".py",
   "mimetype": "text/x-python",
   "name": "python",
   "nbconvert_exporter": "python",
   "pygments_lexer": "ipython3",
   "version": "3.11.7"
  }
 },
 "nbformat": 4,
 "nbformat_minor": 5
}
