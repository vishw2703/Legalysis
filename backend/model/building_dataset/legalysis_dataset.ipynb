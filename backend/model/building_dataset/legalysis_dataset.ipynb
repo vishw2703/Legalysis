{
 "cells": [
  {
   "cell_type": "code",
   "execution_count": 64,
   "id": "335ff93c",
   "metadata": {},
   "outputs": [],
   "source": [
    "import pandas as pd\n",
    "import numpy as np\n",
    "import glob\n",
    "import os\n",
    "import openpyxl"
   ]
  },
  {
   "cell_type": "code",
   "execution_count": 65,
   "id": "8993b9c1",
   "metadata": {},
   "outputs": [],
   "source": [
    "sentences = []\n",
    "fairness = []"
   ]
  },
  {
   "cell_type": "code",
   "execution_count": 66,
   "id": "9dcf0e51",
   "metadata": {
    "scrolled": true
   },
   "outputs": [],
   "source": [
    "folder_path = r'D:\\Project\\Legal Documents\\Dataset\\ToS\\Sentences'\n",
    "\n",
    "for file_name in os.listdir(folder_path):\n",
    "    file_path = os.path.join(folder_path, file_name)\n",
    "    \n",
    "    with open(file_path, 'r', encoding='utf-8') as single_file:\n",
    "        lines = single_file.readlines()\n",
    "        sentences.extend(lines)"
   ]
  },
  {
   "cell_type": "code",
   "execution_count": 67,
   "id": "f5275d55",
   "metadata": {},
   "outputs": [],
   "source": [
    "df = pd.DataFrame({'Sentence': sentences})"
   ]
  },
  {
   "cell_type": "code",
   "execution_count": 68,
   "id": "cc6724f1",
   "metadata": {},
   "outputs": [],
   "source": [
    "folder_path = r'D:\\Project\\Legal Documents\\Dataset\\ToS\\Labels'\n",
    "\n",
    "for file_name in os.listdir(folder_path):\n",
    "    file_path = os.path.join(folder_path, file_name)\n",
    "    \n",
    "    with open(file_path, 'r', encoding='utf-8') as single_file:\n",
    "        lines = single_file.readlines()\n",
    "        fairness.extend(lines)"
   ]
  },
  {
   "cell_type": "code",
   "execution_count": 69,
   "id": "508a09bf",
   "metadata": {},
   "outputs": [],
   "source": [
    "fairness_df = pd.DataFrame({'Fairness': fairness})"
   ]
  },
  {
   "cell_type": "code",
   "execution_count": 70,
   "id": "8bbd4031",
   "metadata": {},
   "outputs": [],
   "source": [
    "excel_file_path = r'D:\\Project\\Legal Documents\\Dataset\\ToS\\dataset.xlsx'\n",
    "\n",
    "with pd.ExcelWriter(excel_file_path, engine='openpyxl') as writer:\n",
    "    workbook = openpyxl.Workbook()\n",
    "    sheet = workbook.active\n",
    "    \n",
    "    df.to_excel(writer, index=False, sheet_name='Sheet1', startrow=0, startcol=0)\n",
    "    \n",
    "    fairness_df.to_excel(writer, index=False, sheet_name='Sheet1', startrow=0, startcol=df.shape[1]+1)"
   ]
  }
 ],
 "metadata": {
  "kernelspec": {
   "display_name": "Python 3 (ipykernel)",
   "language": "python",
   "name": "python3"
  },
  "language_info": {
   "codemirror_mode": {
    "name": "ipython",
    "version": 3
   },
   "file_extension": ".py",
   "mimetype": "text/x-python",
   "name": "python",
   "nbconvert_exporter": "python",
   "pygments_lexer": "ipython3",
   "version": "3.11.7"
  }
 },
 "nbformat": 4,
 "nbformat_minor": 5
}
