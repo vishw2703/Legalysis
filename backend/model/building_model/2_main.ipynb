{
 "cells": [
  {
   "cell_type": "code",
   "execution_count": 30,
   "id": "d8f77b4f-3087-43c9-ba4a-30ce41c03c72",
   "metadata": {},
   "outputs": [],
   "source": [
    "# Importing necessary libraries\n",
    "\n",
    "import pandas as pd\n",
    "import numpy as np\n",
    "import os\n",
    "from sklearn.model_selection import train_test_split\n",
    "from sklearn.feature_extraction.text import TfidfVectorizer\n",
    "from skmultilearn.adapt import MLkNN\n",
    "from sklearn.metrics import hamming_loss, accuracy_score\n",
    "from sklearn.pipeline import Pipeline\n",
    "import pickle"
   ]
  },
  {
   "cell_type": "code",
   "execution_count": 31,
   "id": "9305607d-9679-4fe7-860c-d4e2d84d3481",
   "metadata": {},
   "outputs": [
    {
     "data": {
      "text/html": [
       "<div>\n",
       "<style scoped>\n",
       "    .dataframe tbody tr th:only-of-type {\n",
       "        vertical-align: middle;\n",
       "    }\n",
       "\n",
       "    .dataframe tbody tr th {\n",
       "        vertical-align: top;\n",
       "    }\n",
       "\n",
       "    .dataframe thead th {\n",
       "        text-align: right;\n",
       "    }\n",
       "</style>\n",
       "<table border=\"1\" class=\"dataframe\">\n",
       "  <thead>\n",
       "    <tr style=\"text-align: right;\">\n",
       "      <th></th>\n",
       "      <th>Unnamed: 0</th>\n",
       "      <th>Sentence</th>\n",
       "      <th>Arbitration</th>\n",
       "      <th>Unilateral</th>\n",
       "      <th>Content_removal</th>\n",
       "      <th>Jurisdiction</th>\n",
       "      <th>Choice_of_law</th>\n",
       "      <th>Limitation_of_liability</th>\n",
       "      <th>Unilateral_termination</th>\n",
       "      <th>Contract_by_using</th>\n",
       "    </tr>\n",
       "  </thead>\n",
       "  <tbody>\n",
       "    <tr>\n",
       "      <th>0</th>\n",
       "      <td>NaN</td>\n",
       "      <td>* accepting the terms of service \\n</td>\n",
       "      <td>0</td>\n",
       "      <td>0</td>\n",
       "      <td>0</td>\n",
       "      <td>0</td>\n",
       "      <td>0</td>\n",
       "      <td>0</td>\n",
       "      <td>0</td>\n",
       "      <td>0</td>\n",
       "    </tr>\n",
       "    <tr>\n",
       "      <th>1</th>\n",
       "      <td>NaN</td>\n",
       "      <td>the purpose of this website , 9gag . \\n</td>\n",
       "      <td>0</td>\n",
       "      <td>0</td>\n",
       "      <td>0</td>\n",
       "      <td>0</td>\n",
       "      <td>0</td>\n",
       "      <td>0</td>\n",
       "      <td>0</td>\n",
       "      <td>0</td>\n",
       "    </tr>\n",
       "    <tr>\n",
       "      <th>2</th>\n",
       "      <td>NaN</td>\n",
       "      <td>com -lrb- the `` site '' -rrb- , owned and ope...</td>\n",
       "      <td>0</td>\n",
       "      <td>0</td>\n",
       "      <td>0</td>\n",
       "      <td>0</td>\n",
       "      <td>0</td>\n",
       "      <td>0</td>\n",
       "      <td>0</td>\n",
       "      <td>0</td>\n",
       "    </tr>\n",
       "    <tr>\n",
       "      <th>3</th>\n",
       "      <td>NaN</td>\n",
       "      <td>please read these terms of service -lrb- `` ag...</td>\n",
       "      <td>0</td>\n",
       "      <td>0</td>\n",
       "      <td>0</td>\n",
       "      <td>0</td>\n",
       "      <td>0</td>\n",
       "      <td>0</td>\n",
       "      <td>0</td>\n",
       "      <td>0</td>\n",
       "    </tr>\n",
       "    <tr>\n",
       "      <th>4</th>\n",
       "      <td>NaN</td>\n",
       "      <td>by using or accessing the services , you agree...</td>\n",
       "      <td>0</td>\n",
       "      <td>0</td>\n",
       "      <td>0</td>\n",
       "      <td>0</td>\n",
       "      <td>0</td>\n",
       "      <td>0</td>\n",
       "      <td>0</td>\n",
       "      <td>1</td>\n",
       "    </tr>\n",
       "  </tbody>\n",
       "</table>\n",
       "</div>"
      ],
      "text/plain": [
       "   Unnamed: 0                                           Sentence  Arbitration  \\\n",
       "0         NaN                * accepting the terms of service \\n            0   \n",
       "1         NaN            the purpose of this website , 9gag . \\n            0   \n",
       "2         NaN  com -lrb- the `` site '' -rrb- , owned and ope...            0   \n",
       "3         NaN  please read these terms of service -lrb- `` ag...            0   \n",
       "4         NaN  by using or accessing the services , you agree...            0   \n",
       "\n",
       "   Unilateral  Content_removal  Jurisdiction  Choice_of_law  \\\n",
       "0           0                0             0              0   \n",
       "1           0                0             0              0   \n",
       "2           0                0             0              0   \n",
       "3           0                0             0              0   \n",
       "4           0                0             0              0   \n",
       "\n",
       "   Limitation_of_liability  Unilateral_termination  Contract_by_using  \n",
       "0                        0                       0                  0  \n",
       "1                        0                       0                  0  \n",
       "2                        0                       0                  0  \n",
       "3                        0                       0                  0  \n",
       "4                        0                       0                  1  "
      ]
     },
     "execution_count": 31,
     "metadata": {},
     "output_type": "execute_result"
    }
   ],
   "source": [
    "# Importing Dataset\n",
    "\n",
    "df = pd.read_excel(r'D:\\Project\\legalysis\\legalysis\\Dataset\\ToS\\dataset_2.xlsx')\n",
    "df.head(5)"
   ]
  },
  {
   "cell_type": "code",
   "execution_count": 32,
   "id": "c0a4507f-ece9-4559-82f7-ead242b062c0",
   "metadata": {},
   "outputs": [
    {
     "data": {
      "text/html": [
       "<div>\n",
       "<style scoped>\n",
       "    .dataframe tbody tr th:only-of-type {\n",
       "        vertical-align: middle;\n",
       "    }\n",
       "\n",
       "    .dataframe tbody tr th {\n",
       "        vertical-align: top;\n",
       "    }\n",
       "\n",
       "    .dataframe thead th {\n",
       "        text-align: right;\n",
       "    }\n",
       "</style>\n",
       "<table border=\"1\" class=\"dataframe\">\n",
       "  <thead>\n",
       "    <tr style=\"text-align: right;\">\n",
       "      <th></th>\n",
       "      <th>Sentence</th>\n",
       "      <th>Arbitration</th>\n",
       "      <th>Unilateral</th>\n",
       "      <th>Content_removal</th>\n",
       "      <th>Jurisdiction</th>\n",
       "      <th>Choice_of_law</th>\n",
       "      <th>Limitation_of_liability</th>\n",
       "      <th>Unilateral_termination</th>\n",
       "      <th>Contract_by_using</th>\n",
       "    </tr>\n",
       "  </thead>\n",
       "  <tbody>\n",
       "    <tr>\n",
       "      <th>0</th>\n",
       "      <td>* accepting the terms of service \\n</td>\n",
       "      <td>0</td>\n",
       "      <td>0</td>\n",
       "      <td>0</td>\n",
       "      <td>0</td>\n",
       "      <td>0</td>\n",
       "      <td>0</td>\n",
       "      <td>0</td>\n",
       "      <td>0</td>\n",
       "    </tr>\n",
       "    <tr>\n",
       "      <th>1</th>\n",
       "      <td>the purpose of this website , 9gag . \\n</td>\n",
       "      <td>0</td>\n",
       "      <td>0</td>\n",
       "      <td>0</td>\n",
       "      <td>0</td>\n",
       "      <td>0</td>\n",
       "      <td>0</td>\n",
       "      <td>0</td>\n",
       "      <td>0</td>\n",
       "    </tr>\n",
       "    <tr>\n",
       "      <th>2</th>\n",
       "      <td>com -lrb- the `` site '' -rrb- , owned and ope...</td>\n",
       "      <td>0</td>\n",
       "      <td>0</td>\n",
       "      <td>0</td>\n",
       "      <td>0</td>\n",
       "      <td>0</td>\n",
       "      <td>0</td>\n",
       "      <td>0</td>\n",
       "      <td>0</td>\n",
       "    </tr>\n",
       "    <tr>\n",
       "      <th>3</th>\n",
       "      <td>please read these terms of service -lrb- `` ag...</td>\n",
       "      <td>0</td>\n",
       "      <td>0</td>\n",
       "      <td>0</td>\n",
       "      <td>0</td>\n",
       "      <td>0</td>\n",
       "      <td>0</td>\n",
       "      <td>0</td>\n",
       "      <td>0</td>\n",
       "    </tr>\n",
       "    <tr>\n",
       "      <th>4</th>\n",
       "      <td>by using or accessing the services , you agree...</td>\n",
       "      <td>0</td>\n",
       "      <td>0</td>\n",
       "      <td>0</td>\n",
       "      <td>0</td>\n",
       "      <td>0</td>\n",
       "      <td>0</td>\n",
       "      <td>0</td>\n",
       "      <td>1</td>\n",
       "    </tr>\n",
       "  </tbody>\n",
       "</table>\n",
       "</div>"
      ],
      "text/plain": [
       "                                            Sentence  Arbitration  Unilateral  \\\n",
       "0                * accepting the terms of service \\n            0           0   \n",
       "1            the purpose of this website , 9gag . \\n            0           0   \n",
       "2  com -lrb- the `` site '' -rrb- , owned and ope...            0           0   \n",
       "3  please read these terms of service -lrb- `` ag...            0           0   \n",
       "4  by using or accessing the services , you agree...            0           0   \n",
       "\n",
       "   Content_removal  Jurisdiction  Choice_of_law  Limitation_of_liability  \\\n",
       "0                0             0              0                        0   \n",
       "1                0             0              0                        0   \n",
       "2                0             0              0                        0   \n",
       "3                0             0              0                        0   \n",
       "4                0             0              0                        0   \n",
       "\n",
       "   Unilateral_termination  Contract_by_using  \n",
       "0                       0                  0  \n",
       "1                       0                  0  \n",
       "2                       0                  0  \n",
       "3                       0                  0  \n",
       "4                       0                  1  "
      ]
     },
     "execution_count": 32,
     "metadata": {},
     "output_type": "execute_result"
    }
   ],
   "source": [
    "# Dropping the column\n",
    "\n",
    "df = df.drop('Unnamed: 0', axis=1)\n",
    "df.head(5)"
   ]
  },
  {
   "cell_type": "code",
   "execution_count": 33,
   "id": "90ee955d-8753-4fe7-9f09-6b81c5400ec5",
   "metadata": {},
   "outputs": [],
   "source": [
    "# Splitting the Dataset into Sentences and an Array of Values of Unfairness\n",
    "\n",
    "X = df[\"Sentence\"]\n",
    "y = np.asarray(df[df.columns[1:]])"
   ]
  },
  {
   "cell_type": "code",
   "execution_count": 34,
   "id": "7fc2d93f",
   "metadata": {},
   "outputs": [],
   "source": [
    "# Slitting the Dataset into Train set and Testing set\n",
    "\n",
    "X_train, X_test, y_train, y_test = train_test_split(X, y, test_size=0.30, random_state=42)"
   ]
  },
  {
   "cell_type": "code",
   "execution_count": 35,
   "id": "93919b48-b1a5-47ef-9fbd-15f8db30c39d",
   "metadata": {},
   "outputs": [],
   "source": [
    "# Converting the text values into feature vectores\n",
    "\n",
    "vectorizer = TfidfVectorizer()\n",
    "vectorizer.fit(X)\n",
    "X_train_tfidf = vectorizer.transform(X_train)\n",
    "X_test_tfidf = vectorizer.transform(X_test)"
   ]
  },
  {
   "cell_type": "code",
   "execution_count": 36,
   "id": "1752b66b-6fb3-4111-8d95-782ad1dac4f9",
   "metadata": {},
   "outputs": [
    {
     "name": "stdout",
     "output_type": "stream",
     "text": [
      "  (0, 6653)\t0.1664721478562663\n",
      "  (0, 6353)\t0.14377885161916878\n",
      "  (0, 6258)\t0.20069139027222932\n",
      "  (0, 6117)\t0.04570878852557127\n",
      "  (0, 6099)\t0.11901140433681845\n",
      "  (0, 6035)\t0.2516919168989188\n",
      "  (0, 6012)\t0.08353782710683363\n",
      "  (0, 5806)\t0.3078187249299754\n",
      "  (0, 5488)\t0.14492824320705144\n",
      "  (0, 5115)\t0.2301399927043174\n",
      "  (0, 5114)\t0.2215025719173067\n",
      "  (0, 4900)\t0.1997674961902873\n",
      "  (0, 4834)\t0.18388938033724123\n",
      "  (0, 4766)\t0.20364697357968253\n",
      "  (0, 4764)\t0.2163429074002199\n",
      "  (0, 4681)\t0.20692559371164562\n",
      "  (0, 4467)\t0.16051046483127498\n",
      "  (0, 4310)\t0.11546133892218427\n",
      "  (0, 4281)\t0.04968111320069707\n",
      "  (0, 4209)\t0.20130514351453613\n",
      "  (0, 3252)\t0.2301399927043174\n",
      "  (0, 3137)\t0.12710592656883524\n",
      "  (0, 2698)\t0.15860352636213623\n",
      "  (0, 2671)\t0.0706276222922924\n",
      "  (0, 2171)\t0.16997963378067432\n",
      "  :\t:\n",
      "  (6588, 4308)\t0.07047664492063421\n",
      "  (6588, 4281)\t0.08426347344042463\n",
      "  (6588, 4237)\t0.17019499508405353\n",
      "  (6588, 4222)\t0.21281746978182547\n",
      "  (6588, 4209)\t0.1707154844279937\n",
      "  (6588, 4132)\t0.14443780197335793\n",
      "  (6588, 4114)\t0.09974948898289877\n",
      "  (6588, 3983)\t0.1626719405860313\n",
      "  (6588, 3592)\t0.1651579930268281\n",
      "  (6588, 3137)\t0.10779133334117136\n",
      "  (6588, 2903)\t0.23046625358352613\n",
      "  (6588, 2698)\t0.1345026627843963\n",
      "  (6588, 2503)\t0.12391896940561227\n",
      "  (6588, 2408)\t0.11889191142696212\n",
      "  (6588, 2120)\t0.1951686859801249\n",
      "  (6588, 2066)\t0.23046625358352613\n",
      "  (6588, 1763)\t0.14686457193599253\n",
      "  (6588, 1453)\t0.1894870466337645\n",
      "  (6588, 1051)\t0.12764396529895192\n",
      "  (6588, 930)\t0.13969930055493143\n",
      "  (6588, 866)\t0.06675393943716261\n",
      "  (6588, 698)\t0.07571846410207805\n",
      "  (6588, 633)\t0.1894870466337645\n",
      "  (6588, 570)\t0.08581714235193348\n",
      "  (6588, 359)\t0.1694114928694293\n",
      "[[0 0 0 ... 0 0 0]\n",
      " [1 0 0 ... 0 0 0]\n",
      " [0 0 0 ... 0 0 0]\n",
      " ...\n",
      " [0 0 0 ... 0 0 0]\n",
      " [0 0 0 ... 0 0 1]\n",
      " [0 0 0 ... 0 0 0]]\n"
     ]
    }
   ],
   "source": [
    "# Checking the values in Dataset\n",
    "\n",
    "print(X_train_tfidf)\n",
    "\n",
    "print(y_train)"
   ]
  },
  {
   "cell_type": "code",
   "execution_count": 37,
   "id": "5201fc8f-101e-49f3-bb6d-d1646abfd9c1",
   "metadata": {},
   "outputs": [],
   "source": [
    "# Training model for multi-label classification using Logistic Regression\n",
    "\n",
    "from sklearn.multioutput import MultiOutputClassifier\n",
    "from sklearn.linear_model import LogisticRegression\n",
    "from sklearn.svm import SVC\n",
    "\n",
    "model = MultiOutputClassifier(SVC()).fit(X_train_tfidf, y_train)"
   ]
  },
  {
   "cell_type": "code",
   "execution_count": 38,
   "id": "8c5930dc-4a05-47a8-ac41-7e7d521f2859",
   "metadata": {},
   "outputs": [
    {
     "name": "stdout",
     "output_type": "stream",
     "text": [
      "Accuracy Score:  0.9334513274336284\n",
      "Hamming Loss:  0.01\n"
     ]
    }
   ],
   "source": [
    "# Calculating the Performance Matrix of model\n",
    "\n",
    "prediction = model.predict(X_test_tfidf)\n",
    "\n",
    "print('Accuracy Score: ', accuracy_score(y_test, prediction))\n",
    "print('Hamming Loss: ', round(hamming_loss(y_test, prediction), 2))"
   ]
  },
  {
   "cell_type": "code",
   "execution_count": 39,
   "id": "b58d94b8",
   "metadata": {},
   "outputs": [
    {
     "data": {
      "text/html": [
       "<style>#sk-container-id-2 {color: black;}#sk-container-id-2 pre{padding: 0;}#sk-container-id-2 div.sk-toggleable {background-color: white;}#sk-container-id-2 label.sk-toggleable__label {cursor: pointer;display: block;width: 100%;margin-bottom: 0;padding: 0.3em;box-sizing: border-box;text-align: center;}#sk-container-id-2 label.sk-toggleable__label-arrow:before {content: \"▸\";float: left;margin-right: 0.25em;color: #696969;}#sk-container-id-2 label.sk-toggleable__label-arrow:hover:before {color: black;}#sk-container-id-2 div.sk-estimator:hover label.sk-toggleable__label-arrow:before {color: black;}#sk-container-id-2 div.sk-toggleable__content {max-height: 0;max-width: 0;overflow: hidden;text-align: left;background-color: #f0f8ff;}#sk-container-id-2 div.sk-toggleable__content pre {margin: 0.2em;color: black;border-radius: 0.25em;background-color: #f0f8ff;}#sk-container-id-2 input.sk-toggleable__control:checked~div.sk-toggleable__content {max-height: 200px;max-width: 100%;overflow: auto;}#sk-container-id-2 input.sk-toggleable__control:checked~label.sk-toggleable__label-arrow:before {content: \"▾\";}#sk-container-id-2 div.sk-estimator input.sk-toggleable__control:checked~label.sk-toggleable__label {background-color: #d4ebff;}#sk-container-id-2 div.sk-label input.sk-toggleable__control:checked~label.sk-toggleable__label {background-color: #d4ebff;}#sk-container-id-2 input.sk-hidden--visually {border: 0;clip: rect(1px 1px 1px 1px);clip: rect(1px, 1px, 1px, 1px);height: 1px;margin: -1px;overflow: hidden;padding: 0;position: absolute;width: 1px;}#sk-container-id-2 div.sk-estimator {font-family: monospace;background-color: #f0f8ff;border: 1px dotted black;border-radius: 0.25em;box-sizing: border-box;margin-bottom: 0.5em;}#sk-container-id-2 div.sk-estimator:hover {background-color: #d4ebff;}#sk-container-id-2 div.sk-parallel-item::after {content: \"\";width: 100%;border-bottom: 1px solid gray;flex-grow: 1;}#sk-container-id-2 div.sk-label:hover label.sk-toggleable__label {background-color: #d4ebff;}#sk-container-id-2 div.sk-serial::before {content: \"\";position: absolute;border-left: 1px solid gray;box-sizing: border-box;top: 0;bottom: 0;left: 50%;z-index: 0;}#sk-container-id-2 div.sk-serial {display: flex;flex-direction: column;align-items: center;background-color: white;padding-right: 0.2em;padding-left: 0.2em;position: relative;}#sk-container-id-2 div.sk-item {position: relative;z-index: 1;}#sk-container-id-2 div.sk-parallel {display: flex;align-items: stretch;justify-content: center;background-color: white;position: relative;}#sk-container-id-2 div.sk-item::before, #sk-container-id-2 div.sk-parallel-item::before {content: \"\";position: absolute;border-left: 1px solid gray;box-sizing: border-box;top: 0;bottom: 0;left: 50%;z-index: -1;}#sk-container-id-2 div.sk-parallel-item {display: flex;flex-direction: column;z-index: 1;position: relative;background-color: white;}#sk-container-id-2 div.sk-parallel-item:first-child::after {align-self: flex-end;width: 50%;}#sk-container-id-2 div.sk-parallel-item:last-child::after {align-self: flex-start;width: 50%;}#sk-container-id-2 div.sk-parallel-item:only-child::after {width: 0;}#sk-container-id-2 div.sk-dashed-wrapped {border: 1px dashed gray;margin: 0 0.4em 0.5em 0.4em;box-sizing: border-box;padding-bottom: 0.4em;background-color: white;}#sk-container-id-2 div.sk-label label {font-family: monospace;font-weight: bold;display: inline-block;line-height: 1.2em;}#sk-container-id-2 div.sk-label-container {text-align: center;}#sk-container-id-2 div.sk-container {/* jupyter's `normalize.less` sets `[hidden] { display: none; }` but bootstrap.min.css set `[hidden] { display: none !important; }` so we also need the `!important` here to be able to override the default hidden behavior on the sphinx rendered scikit-learn.org. See: https://github.com/scikit-learn/scikit-learn/issues/21755 */display: inline-block !important;position: relative;}#sk-container-id-2 div.sk-text-repr-fallback {display: none;}</style><div id=\"sk-container-id-2\" class=\"sk-top-container\"><div class=\"sk-text-repr-fallback\"><pre>Pipeline(steps=[(&#x27;vectorizer&#x27;, TfidfVectorizer()),\n",
       "                (&#x27;multi_output_classifier&#x27;,\n",
       "                 MultiOutputClassifier(estimator=SVC()))])</pre><b>In a Jupyter environment, please rerun this cell to show the HTML representation or trust the notebook. <br />On GitHub, the HTML representation is unable to render, please try loading this page with nbviewer.org.</b></div><div class=\"sk-container\" hidden><div class=\"sk-item sk-dashed-wrapped\"><div class=\"sk-label-container\"><div class=\"sk-label sk-toggleable\"><input class=\"sk-toggleable__control sk-hidden--visually\" id=\"sk-estimator-id-6\" type=\"checkbox\" ><label for=\"sk-estimator-id-6\" class=\"sk-toggleable__label sk-toggleable__label-arrow\">Pipeline</label><div class=\"sk-toggleable__content\"><pre>Pipeline(steps=[(&#x27;vectorizer&#x27;, TfidfVectorizer()),\n",
       "                (&#x27;multi_output_classifier&#x27;,\n",
       "                 MultiOutputClassifier(estimator=SVC()))])</pre></div></div></div><div class=\"sk-serial\"><div class=\"sk-item\"><div class=\"sk-estimator sk-toggleable\"><input class=\"sk-toggleable__control sk-hidden--visually\" id=\"sk-estimator-id-7\" type=\"checkbox\" ><label for=\"sk-estimator-id-7\" class=\"sk-toggleable__label sk-toggleable__label-arrow\">TfidfVectorizer</label><div class=\"sk-toggleable__content\"><pre>TfidfVectorizer()</pre></div></div></div><div class=\"sk-item sk-dashed-wrapped\"><div class=\"sk-label-container\"><div class=\"sk-label sk-toggleable\"><input class=\"sk-toggleable__control sk-hidden--visually\" id=\"sk-estimator-id-8\" type=\"checkbox\" ><label for=\"sk-estimator-id-8\" class=\"sk-toggleable__label sk-toggleable__label-arrow\">multi_output_classifier: MultiOutputClassifier</label><div class=\"sk-toggleable__content\"><pre>MultiOutputClassifier(estimator=SVC())</pre></div></div></div><div class=\"sk-parallel\"><div class=\"sk-parallel-item\"><div class=\"sk-item\"><div class=\"sk-label-container\"><div class=\"sk-label sk-toggleable\"><input class=\"sk-toggleable__control sk-hidden--visually\" id=\"sk-estimator-id-9\" type=\"checkbox\" ><label for=\"sk-estimator-id-9\" class=\"sk-toggleable__label sk-toggleable__label-arrow\">estimator: SVC</label><div class=\"sk-toggleable__content\"><pre>SVC()</pre></div></div></div><div class=\"sk-serial\"><div class=\"sk-item\"><div class=\"sk-estimator sk-toggleable\"><input class=\"sk-toggleable__control sk-hidden--visually\" id=\"sk-estimator-id-10\" type=\"checkbox\" ><label for=\"sk-estimator-id-10\" class=\"sk-toggleable__label sk-toggleable__label-arrow\">SVC</label><div class=\"sk-toggleable__content\"><pre>SVC()</pre></div></div></div></div></div></div></div></div></div></div></div></div>"
      ],
      "text/plain": [
       "Pipeline(steps=[('vectorizer', TfidfVectorizer()),\n",
       "                ('multi_output_classifier',\n",
       "                 MultiOutputClassifier(estimator=SVC()))])"
      ]
     },
     "execution_count": 39,
     "metadata": {},
     "output_type": "execute_result"
    }
   ],
   "source": [
    "# Creating and Training the Pipeline\n",
    "\n",
    "pipe = Pipeline([('vectorizer', vectorizer), ('multi_output_classifier', model)])\n",
    "pipe.fit(X_train, y_train)"
   ]
  },
  {
   "cell_type": "code",
   "execution_count": 40,
   "id": "b3d4b16c",
   "metadata": {},
   "outputs": [
    {
     "name": "stdout",
     "output_type": "stream",
     "text": [
      "Accuracy Score:  0.9338053097345133\n",
      "Hamming Loss:  0.01\n"
     ]
    }
   ],
   "source": [
    "# Calculating the Performance Matrix of Pipeline\n",
    "\n",
    "prediction_2 = pipe.predict(X_test)\n",
    "\n",
    "print('Accuracy Score: ', accuracy_score(y_test, prediction_2))\n",
    "print('Hamming Loss: ', round(hamming_loss(y_test, prediction_2), 2))"
   ]
  },
  {
   "cell_type": "code",
   "execution_count": 41,
   "id": "5daafd7f-99de-4a7a-a04f-6cb293d52388",
   "metadata": {},
   "outputs": [],
   "source": [
    "# Saving the model\n",
    "\n",
    "new_directory = r'D:\\Project\\MiniProjectLegalysis\\backend\\model\\models'\n",
    "os.chdir(new_directory)\n",
    "\n",
    "with open('unfairness_details_model.pkl', 'wb') as f:\n",
    "    pickle.dump(model, f)"
   ]
  },
  {
   "cell_type": "code",
   "execution_count": 42,
   "id": "e0e7a1f5",
   "metadata": {},
   "outputs": [],
   "source": [
    "# Saving the Vectorizer\n",
    "\n",
    "new_directory = r'D:\\Project\\MiniProjectLegalysis\\backend\\model\\tokenizers'\n",
    "os.chdir(new_directory)\n",
    "\n",
    "with open('unfairness_details_vectorizer.pkl', 'wb') as f:\n",
    "    pickle.dump(vectorizer, f)"
   ]
  },
  {
   "cell_type": "code",
   "execution_count": 43,
   "id": "ccd70d1a",
   "metadata": {},
   "outputs": [],
   "source": [
    "# Saving the Pipeline\n",
    "\n",
    "new_directory = r'D:\\Project\\MiniProjectLegalysis\\backend\\model\\pipelines'\n",
    "os.chdir(new_directory)\n",
    "\n",
    "with open('unfairness_details_pipeline.pkl', 'wb') as f:\n",
    "    pickle.dump(pipe,f)"
   ]
  },
  {
   "cell_type": "code",
   "execution_count": null,
   "id": "edf728ab",
   "metadata": {},
   "outputs": [],
   "source": []
  }
 ],
 "metadata": {
  "kernelspec": {
   "display_name": "gpu",
   "language": "python",
   "name": "python3"
  },
  "language_info": {
   "codemirror_mode": {
    "name": "ipython",
    "version": 3
   },
   "file_extension": ".py",
   "mimetype": "text/x-python",
   "name": "python",
   "nbconvert_exporter": "python",
   "pygments_lexer": "ipython3",
   "version": "3.8.18"
  }
 },
 "nbformat": 4,
 "nbformat_minor": 5
}
